{
  "nbformat": 4,
  "nbformat_minor": 0,
  "metadata": {
    "colab": {
      "name": "Untitled0.ipynb",
      "provenance": [],
      "authorship_tag": "ABX9TyOcnT8RqBcadbBwxhjVLRPr",
      "include_colab_link": true
    },
    "kernelspec": {
      "name": "python3",
      "display_name": "Python 3"
    },
    "language_info": {
      "name": "python"
    }
  },
  "cells": [
    {
      "cell_type": "markdown",
      "metadata": {
        "id": "view-in-github",
        "colab_type": "text"
      },
      "source": [
        "<a href=\"https://colab.research.google.com/github/Abhinav169/OOP-assignment-/blob/main/Untitled0.ipynb\" target=\"_parent\"><img src=\"https://colab.research.google.com/assets/colab-badge.svg\" alt=\"Open In Colab\"/></a>"
      ]
    },
    {
      "cell_type": "markdown",
      "metadata": {
        "id": "4ztZmw62iVfn"
      },
      "source": [
        "`*problem 1*"
      ]
    },
    {
      "cell_type": "code",
      "metadata": {
        "colab": {
          "base_uri": "https://localhost:8080/"
        },
        "id": "jsJDwl6bg8IL",
        "outputId": "78be71e1-8d3c-4adc-defb-135f58149009"
      },
      "source": [
        "year = int(input(\"Enter the Year: \"))\n",
        "\n",
        "def checkyear(year):\n",
        "  if(year%400 == 0):\n",
        "    print('It is a leap year')\n",
        "    return(True)\n",
        "    \n",
        "  elif(year%4==0 and year %100 != 0):\n",
        "    print('It is a leap year')\n",
        "    return(TRUE)\n",
        "    \n",
        "  else:\n",
        "    print('It is not a leap year')\n",
        "    return(False)\n",
        "    \n",
        "checkyear(year)"
      ],
      "execution_count": 16,
      "outputs": [
        {
          "output_type": "stream",
          "name": "stdout",
          "text": [
            "Enter the Year: 2100\n",
            "It is not a leap year\n"
          ]
        },
        {
          "output_type": "execute_result",
          "data": {
            "text/plain": [
              "False"
            ]
          },
          "metadata": {},
          "execution_count": 16
        }
      ]
    },
    {
      "cell_type": "markdown",
      "metadata": {
        "id": "20A4TjnciuK1"
      },
      "source": [
        "PROBLEM 2"
      ]
    },
    {
      "cell_type": "code",
      "metadata": {
        "colab": {
          "base_uri": "https://localhost:8080/"
        },
        "id": "xhHt4-SFitai",
        "outputId": "08eece00-1e61-4a47-ffa7-c5cb57b2c25e"
      },
      "source": [
        "n = int(input(\"Enter a number: \"))\n",
        "if(n%2 != 0):\n",
        "  print(\"Weird\")  \n",
        "elif(n%2 == 0):\n",
        "  if(n>= 2 and n<=5):\n",
        "    print(\"Not Weird\")\n",
        "  if(n>=6 and n<=20):\n",
        "    print(\"Weird\")\n",
        "  if(n>20):\n",
        "    print(\"Not Weird\")"
      ],
      "execution_count": 4,
      "outputs": [
        {
          "output_type": "stream",
          "name": "stdout",
          "text": [
            "Enter a number: 23\n",
            "Weird\n"
          ]
        }
      ]
    },
    {
      "cell_type": "markdown",
      "metadata": {
        "id": "wJq-OdZti9JI"
      },
      "source": [
        "PROBLEM 3"
      ]
    },
    {
      "cell_type": "code",
      "metadata": {
        "colab": {
          "base_uri": "https://localhost:8080/"
        },
        "id": "1RjoLVl1i8wR",
        "outputId": "f41b5d9d-c377-4e70-bd51-30b734eaa619"
      },
      "source": [
        "n = int(input(\"Enter the number of guests: \"))\n",
        "guests = []\n",
        "for i in range(0, n):\n",
        "  name = str(input(\"enter the name of guests: \"))\n",
        "  guests.append([name])\n",
        "print(\"Guests are: \", guests)\n",
        "if(n%2==0):\n",
        "  for k in range( int((n)/2) , n-1):\n",
        "    print(\"\\nFashionable late persons are: \", guests[k])\n",
        "elif(n%2 != 0):\n",
        "  for k in range( int((n-1)/2) , n-1):\n",
        "    print(\"\\nFashionable late persons are: \", guests[k])"
      ],
      "execution_count": 8,
      "outputs": [
        {
          "output_type": "stream",
          "name": "stdout",
          "text": [
            "Enter the number of guests: 3\n",
            "enter the name of guests: abhinav\n",
            "enter the name of guests: arjun\n",
            "enter the name of guests: kesava\n",
            "Guests are:  [['abhinav'], ['arjun'], ['kesava']]\n",
            "\n",
            "Fashionable late persons are:  ['arjun']\n"
          ]
        }
      ]
    },
    {
      "cell_type": "markdown",
      "metadata": {
        "id": "MTBhWf6YjmeI"
      },
      "source": [
        "PROBLEM 4\n"
      ]
    },
    {
      "cell_type": "code",
      "metadata": {
        "id": "Run2QjcajmC7"
      },
      "source": [
        "def word_search_2(title_list, keyword):\n",
        "    # make lowercase and remove punctuation\n",
        "    keyword = keyword.lower().strip('.,')\n",
        "\n",
        "    result_list = []\n",
        "    for i, title in enumerate(title_list):\n",
        "        # make lowercase and remove punctuation, then split into words\n",
        "        words = title.lower().strip('.,').split()\n",
        "\n",
        "        if keyword in words:\n",
        "            result_list.append((i, title))\n",
        "\n",
        "    return result_list\n",
        "\n",
        "if name == '_main_':\n",
        "    docs = ['The Learn Python Challenge by Mahi','El do-rado','The mysterious house','Casinoville?',]\n",
        "    w = 'house'\n",
        "\n",
        "    print(word_search_2(docs, w))\n"
      ],
      "execution_count": 18,
      "outputs": []
    },
    {
      "cell_type": "markdown",
      "metadata": {
        "id": "--w_PBPikwxy"
      },
      "source": [
        "PROBLEM 5"
      ]
    },
    {
      "cell_type": "code",
      "metadata": {
        "colab": {
          "base_uri": "https://localhost:8080/"
        },
        "id": "voAgMQuwkwbw",
        "outputId": "10190059-6457-42a3-c091-fb60130bef40"
      },
      "source": [
        "BP = float(input(\"Enter the Basic Pay: \"))\n",
        "DA = (40*BP)/100\n",
        "HRA = (20*BP)/100\n",
        "GP = BP + DA + HRA\n",
        "print('Gross pay is:',GP)\n"
      ],
      "execution_count": 15,
      "outputs": [
        {
          "output_type": "stream",
          "name": "stdout",
          "text": [
            "Enter the Basic Pay: 34\n",
            "Gross pay is: 54.4\n"
          ]
        }
      ]
    }
  ]
}